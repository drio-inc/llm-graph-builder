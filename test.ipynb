{
 "cells": [
  {
   "cell_type": "code",
   "execution_count": 1,
   "metadata": {},
   "outputs": [
    {
     "name": "stdout",
     "output_type": "stream",
     "text": [
      "Collecting langchain-neo4j\n",
      "  Downloading langchain_neo4j-0.3.0-py3-none-any.whl.metadata (4.5 kB)\n",
      "Requirement already satisfied: langchain<0.4.0,>=0.3.7 in /home/raghib/anaconda3/envs/test_env/lib/python3.10/site-packages (from langchain-neo4j) (0.3.14)\n",
      "Requirement already satisfied: langchain-core<0.4.0,>=0.3.8 in /home/raghib/anaconda3/envs/test_env/lib/python3.10/site-packages (from langchain-neo4j) (0.3.29)\n",
      "Collecting neo4j<6.0.0,>=5.25.0 (from langchain-neo4j)\n",
      "  Downloading neo4j-5.27.0-py3-none-any.whl.metadata (5.9 kB)\n",
      "Requirement already satisfied: PyYAML>=5.3 in /home/raghib/anaconda3/envs/test_env/lib/python3.10/site-packages (from langchain<0.4.0,>=0.3.7->langchain-neo4j) (6.0.2)\n",
      "Requirement already satisfied: SQLAlchemy<3,>=1.4 in /home/raghib/anaconda3/envs/test_env/lib/python3.10/site-packages (from langchain<0.4.0,>=0.3.7->langchain-neo4j) (2.0.36)\n",
      "Requirement already satisfied: aiohttp<4.0.0,>=3.8.3 in /home/raghib/anaconda3/envs/test_env/lib/python3.10/site-packages (from langchain<0.4.0,>=0.3.7->langchain-neo4j) (3.11.10)\n",
      "Requirement already satisfied: async-timeout<5.0.0,>=4.0.0 in /home/raghib/anaconda3/envs/test_env/lib/python3.10/site-packages (from langchain<0.4.0,>=0.3.7->langchain-neo4j) (4.0.3)\n",
      "Requirement already satisfied: langchain-text-splitters<0.4.0,>=0.3.3 in /home/raghib/anaconda3/envs/test_env/lib/python3.10/site-packages (from langchain<0.4.0,>=0.3.7->langchain-neo4j) (0.3.5)\n",
      "Requirement already satisfied: langsmith<0.3,>=0.1.17 in /home/raghib/anaconda3/envs/test_env/lib/python3.10/site-packages (from langchain<0.4.0,>=0.3.7->langchain-neo4j) (0.1.147)\n",
      "Requirement already satisfied: numpy<2,>=1.22.4 in /home/raghib/anaconda3/envs/test_env/lib/python3.10/site-packages (from langchain<0.4.0,>=0.3.7->langchain-neo4j) (1.26.4)\n",
      "Requirement already satisfied: pydantic<3.0.0,>=2.7.4 in /home/raghib/anaconda3/envs/test_env/lib/python3.10/site-packages (from langchain<0.4.0,>=0.3.7->langchain-neo4j) (2.10.3)\n",
      "Requirement already satisfied: requests<3,>=2 in /home/raghib/anaconda3/envs/test_env/lib/python3.10/site-packages (from langchain<0.4.0,>=0.3.7->langchain-neo4j) (2.32.3)\n",
      "Requirement already satisfied: tenacity!=8.4.0,<10,>=8.1.0 in /home/raghib/anaconda3/envs/test_env/lib/python3.10/site-packages (from langchain<0.4.0,>=0.3.7->langchain-neo4j) (9.0.0)\n",
      "Requirement already satisfied: jsonpatch<2.0,>=1.33 in /home/raghib/anaconda3/envs/test_env/lib/python3.10/site-packages (from langchain-core<0.4.0,>=0.3.8->langchain-neo4j) (1.33)\n",
      "Requirement already satisfied: packaging<25,>=23.2 in /home/raghib/anaconda3/envs/test_env/lib/python3.10/site-packages (from langchain-core<0.4.0,>=0.3.8->langchain-neo4j) (24.2)\n",
      "Requirement already satisfied: typing-extensions>=4.7 in /home/raghib/anaconda3/envs/test_env/lib/python3.10/site-packages (from langchain-core<0.4.0,>=0.3.8->langchain-neo4j) (4.12.2)\n",
      "Requirement already satisfied: pytz in /home/raghib/anaconda3/envs/test_env/lib/python3.10/site-packages (from neo4j<6.0.0,>=5.25.0->langchain-neo4j) (2024.2)\n",
      "Requirement already satisfied: aiohappyeyeballs>=2.3.0 in /home/raghib/anaconda3/envs/test_env/lib/python3.10/site-packages (from aiohttp<4.0.0,>=3.8.3->langchain<0.4.0,>=0.3.7->langchain-neo4j) (2.4.4)\n",
      "Requirement already satisfied: aiosignal>=1.1.2 in /home/raghib/anaconda3/envs/test_env/lib/python3.10/site-packages (from aiohttp<4.0.0,>=3.8.3->langchain<0.4.0,>=0.3.7->langchain-neo4j) (1.3.2)\n",
      "Requirement already satisfied: attrs>=17.3.0 in /home/raghib/anaconda3/envs/test_env/lib/python3.10/site-packages (from aiohttp<4.0.0,>=3.8.3->langchain<0.4.0,>=0.3.7->langchain-neo4j) (24.3.0)\n",
      "Requirement already satisfied: frozenlist>=1.1.1 in /home/raghib/anaconda3/envs/test_env/lib/python3.10/site-packages (from aiohttp<4.0.0,>=3.8.3->langchain<0.4.0,>=0.3.7->langchain-neo4j) (1.5.0)\n",
      "Requirement already satisfied: multidict<7.0,>=4.5 in /home/raghib/anaconda3/envs/test_env/lib/python3.10/site-packages (from aiohttp<4.0.0,>=3.8.3->langchain<0.4.0,>=0.3.7->langchain-neo4j) (6.1.0)\n",
      "Requirement already satisfied: propcache>=0.2.0 in /home/raghib/anaconda3/envs/test_env/lib/python3.10/site-packages (from aiohttp<4.0.0,>=3.8.3->langchain<0.4.0,>=0.3.7->langchain-neo4j) (0.2.1)\n",
      "Requirement already satisfied: yarl<2.0,>=1.17.0 in /home/raghib/anaconda3/envs/test_env/lib/python3.10/site-packages (from aiohttp<4.0.0,>=3.8.3->langchain<0.4.0,>=0.3.7->langchain-neo4j) (1.18.3)\n",
      "Requirement already satisfied: jsonpointer>=1.9 in /home/raghib/anaconda3/envs/test_env/lib/python3.10/site-packages (from jsonpatch<2.0,>=1.33->langchain-core<0.4.0,>=0.3.8->langchain-neo4j) (3.0.0)\n",
      "Requirement already satisfied: httpx<1,>=0.23.0 in /home/raghib/anaconda3/envs/test_env/lib/python3.10/site-packages (from langsmith<0.3,>=0.1.17->langchain<0.4.0,>=0.3.7->langchain-neo4j) (0.27.2)\n",
      "Requirement already satisfied: orjson<4.0.0,>=3.9.14 in /home/raghib/anaconda3/envs/test_env/lib/python3.10/site-packages (from langsmith<0.3,>=0.1.17->langchain<0.4.0,>=0.3.7->langchain-neo4j) (3.10.12)\n",
      "Requirement already satisfied: requests-toolbelt<2.0.0,>=1.0.0 in /home/raghib/anaconda3/envs/test_env/lib/python3.10/site-packages (from langsmith<0.3,>=0.1.17->langchain<0.4.0,>=0.3.7->langchain-neo4j) (1.0.0)\n",
      "Requirement already satisfied: annotated-types>=0.6.0 in /home/raghib/anaconda3/envs/test_env/lib/python3.10/site-packages (from pydantic<3.0.0,>=2.7.4->langchain<0.4.0,>=0.3.7->langchain-neo4j) (0.7.0)\n",
      "Requirement already satisfied: pydantic-core==2.27.1 in /home/raghib/anaconda3/envs/test_env/lib/python3.10/site-packages (from pydantic<3.0.0,>=2.7.4->langchain<0.4.0,>=0.3.7->langchain-neo4j) (2.27.1)\n",
      "Requirement already satisfied: charset-normalizer<4,>=2 in /home/raghib/anaconda3/envs/test_env/lib/python3.10/site-packages (from requests<3,>=2->langchain<0.4.0,>=0.3.7->langchain-neo4j) (3.4.1)\n",
      "Requirement already satisfied: idna<4,>=2.5 in /home/raghib/anaconda3/envs/test_env/lib/python3.10/site-packages (from requests<3,>=2->langchain<0.4.0,>=0.3.7->langchain-neo4j) (3.10)\n",
      "Requirement already satisfied: urllib3<3,>=1.21.1 in /home/raghib/anaconda3/envs/test_env/lib/python3.10/site-packages (from requests<3,>=2->langchain<0.4.0,>=0.3.7->langchain-neo4j) (2.2.3)\n",
      "Requirement already satisfied: certifi>=2017.4.17 in /home/raghib/anaconda3/envs/test_env/lib/python3.10/site-packages (from requests<3,>=2->langchain<0.4.0,>=0.3.7->langchain-neo4j) (2024.12.14)\n",
      "Requirement already satisfied: greenlet!=0.4.17 in /home/raghib/anaconda3/envs/test_env/lib/python3.10/site-packages (from SQLAlchemy<3,>=1.4->langchain<0.4.0,>=0.3.7->langchain-neo4j) (3.1.1)\n",
      "Requirement already satisfied: anyio in /home/raghib/anaconda3/envs/test_env/lib/python3.10/site-packages (from httpx<1,>=0.23.0->langsmith<0.3,>=0.1.17->langchain<0.4.0,>=0.3.7->langchain-neo4j) (4.7.0)\n",
      "Requirement already satisfied: httpcore==1.* in /home/raghib/anaconda3/envs/test_env/lib/python3.10/site-packages (from httpx<1,>=0.23.0->langsmith<0.3,>=0.1.17->langchain<0.4.0,>=0.3.7->langchain-neo4j) (1.0.7)\n",
      "Requirement already satisfied: sniffio in /home/raghib/anaconda3/envs/test_env/lib/python3.10/site-packages (from httpx<1,>=0.23.0->langsmith<0.3,>=0.1.17->langchain<0.4.0,>=0.3.7->langchain-neo4j) (1.3.1)\n",
      "Requirement already satisfied: h11<0.15,>=0.13 in /home/raghib/anaconda3/envs/test_env/lib/python3.10/site-packages (from httpcore==1.*->httpx<1,>=0.23.0->langsmith<0.3,>=0.1.17->langchain<0.4.0,>=0.3.7->langchain-neo4j) (0.14.0)\n",
      "Requirement already satisfied: exceptiongroup>=1.0.2 in /home/raghib/anaconda3/envs/test_env/lib/python3.10/site-packages (from anyio->httpx<1,>=0.23.0->langsmith<0.3,>=0.1.17->langchain<0.4.0,>=0.3.7->langchain-neo4j) (1.2.2)\n",
      "Downloading langchain_neo4j-0.3.0-py3-none-any.whl (38 kB)\n",
      "Downloading neo4j-5.27.0-py3-none-any.whl (301 kB)\n",
      "Installing collected packages: neo4j, langchain-neo4j\n",
      "Successfully installed langchain-neo4j-0.3.0 neo4j-5.27.0\n"
     ]
    }
   ],
   "source": [
    "! pip install langchain-neo4j"
   ]
  },
  {
   "cell_type": "code",
   "execution_count": 1,
   "metadata": {},
   "outputs": [],
   "source": [
    "from langchain_neo4j import Neo4jGraph"
   ]
  },
  {
   "cell_type": "code",
   "execution_count": 3,
   "metadata": {},
   "outputs": [
    {
     "data": {
      "text/plain": [
       "<langchain_neo4j.graphs.neo4j_graph.Neo4jGraph at 0x7454fc7765c0>"
      ]
     },
     "execution_count": 3,
     "metadata": {},
     "output_type": "execute_result"
    }
   ],
   "source": [
    "Neo4jGraph(url='bolt://localhost:7687',username='neo4j',password='password123',database='mydatabase')"
   ]
  },
  {
   "cell_type": "code",
   "execution_count": 6,
   "metadata": {},
   "outputs": [
    {
     "name": "stdout",
     "output_type": "stream",
     "text": [
      "Requirement already satisfied: langchain in /home/raghib/anaconda3/envs/test_env/lib/python3.10/site-packages (0.3.14)\n",
      "Collecting langchain\n",
      "  Using cached langchain-0.3.15-py3-none-any.whl.metadata (7.1 kB)\n",
      "Requirement already satisfied: langchain-community in /home/raghib/anaconda3/envs/test_env/lib/python3.10/site-packages (0.3.3)\n",
      "Collecting langchain-community\n",
      "  Downloading langchain_community-0.3.15-py3-none-any.whl.metadata (2.9 kB)\n",
      "Requirement already satisfied: PyYAML>=5.3 in /home/raghib/anaconda3/envs/test_env/lib/python3.10/site-packages (from langchain) (6.0.2)\n",
      "Requirement already satisfied: SQLAlchemy<3,>=1.4 in /home/raghib/anaconda3/envs/test_env/lib/python3.10/site-packages (from langchain) (2.0.36)\n",
      "Requirement already satisfied: aiohttp<4.0.0,>=3.8.3 in /home/raghib/anaconda3/envs/test_env/lib/python3.10/site-packages (from langchain) (3.11.10)\n",
      "Requirement already satisfied: async-timeout<5.0.0,>=4.0.0 in /home/raghib/anaconda3/envs/test_env/lib/python3.10/site-packages (from langchain) (4.0.3)\n",
      "Collecting langchain-core<0.4.0,>=0.3.31 (from langchain)\n",
      "  Downloading langchain_core-0.3.31-py3-none-any.whl.metadata (6.3 kB)\n",
      "Requirement already satisfied: langchain-text-splitters<0.4.0,>=0.3.3 in /home/raghib/anaconda3/envs/test_env/lib/python3.10/site-packages (from langchain) (0.3.5)\n",
      "Requirement already satisfied: langsmith<0.4,>=0.1.17 in /home/raghib/anaconda3/envs/test_env/lib/python3.10/site-packages (from langchain) (0.1.147)\n",
      "Requirement already satisfied: numpy<2,>=1.22.4 in /home/raghib/anaconda3/envs/test_env/lib/python3.10/site-packages (from langchain) (1.26.4)\n",
      "Requirement already satisfied: pydantic<3.0.0,>=2.7.4 in /home/raghib/anaconda3/envs/test_env/lib/python3.10/site-packages (from langchain) (2.10.3)\n",
      "Requirement already satisfied: requests<3,>=2 in /home/raghib/anaconda3/envs/test_env/lib/python3.10/site-packages (from langchain) (2.32.3)\n",
      "Requirement already satisfied: tenacity!=8.4.0,<10,>=8.1.0 in /home/raghib/anaconda3/envs/test_env/lib/python3.10/site-packages (from langchain) (9.0.0)\n",
      "Requirement already satisfied: dataclasses-json<0.7,>=0.5.7 in /home/raghib/anaconda3/envs/test_env/lib/python3.10/site-packages (from langchain-community) (0.6.7)\n",
      "Collecting httpx-sse<0.5.0,>=0.4.0 (from langchain-community)\n",
      "  Using cached httpx_sse-0.4.0-py3-none-any.whl.metadata (9.0 kB)\n",
      "Requirement already satisfied: pydantic-settings<3.0.0,>=2.4.0 in /home/raghib/anaconda3/envs/test_env/lib/python3.10/site-packages (from langchain-community) (2.7.0)\n",
      "Requirement already satisfied: aiohappyeyeballs>=2.3.0 in /home/raghib/anaconda3/envs/test_env/lib/python3.10/site-packages (from aiohttp<4.0.0,>=3.8.3->langchain) (2.4.4)\n",
      "Requirement already satisfied: aiosignal>=1.1.2 in /home/raghib/anaconda3/envs/test_env/lib/python3.10/site-packages (from aiohttp<4.0.0,>=3.8.3->langchain) (1.3.2)\n",
      "Requirement already satisfied: attrs>=17.3.0 in /home/raghib/anaconda3/envs/test_env/lib/python3.10/site-packages (from aiohttp<4.0.0,>=3.8.3->langchain) (24.3.0)\n",
      "Requirement already satisfied: frozenlist>=1.1.1 in /home/raghib/anaconda3/envs/test_env/lib/python3.10/site-packages (from aiohttp<4.0.0,>=3.8.3->langchain) (1.5.0)\n",
      "Requirement already satisfied: multidict<7.0,>=4.5 in /home/raghib/anaconda3/envs/test_env/lib/python3.10/site-packages (from aiohttp<4.0.0,>=3.8.3->langchain) (6.1.0)\n",
      "Requirement already satisfied: propcache>=0.2.0 in /home/raghib/anaconda3/envs/test_env/lib/python3.10/site-packages (from aiohttp<4.0.0,>=3.8.3->langchain) (0.2.1)\n",
      "Requirement already satisfied: yarl<2.0,>=1.17.0 in /home/raghib/anaconda3/envs/test_env/lib/python3.10/site-packages (from aiohttp<4.0.0,>=3.8.3->langchain) (1.18.3)\n",
      "Requirement already satisfied: marshmallow<4.0.0,>=3.18.0 in /home/raghib/anaconda3/envs/test_env/lib/python3.10/site-packages (from dataclasses-json<0.7,>=0.5.7->langchain-community) (3.23.1)\n",
      "Requirement already satisfied: typing-inspect<1,>=0.4.0 in /home/raghib/anaconda3/envs/test_env/lib/python3.10/site-packages (from dataclasses-json<0.7,>=0.5.7->langchain-community) (0.9.0)\n",
      "Requirement already satisfied: jsonpatch<2.0,>=1.33 in /home/raghib/anaconda3/envs/test_env/lib/python3.10/site-packages (from langchain-core<0.4.0,>=0.3.31->langchain) (1.33)\n",
      "Requirement already satisfied: packaging<25,>=23.2 in /home/raghib/anaconda3/envs/test_env/lib/python3.10/site-packages (from langchain-core<0.4.0,>=0.3.31->langchain) (24.2)\n",
      "Requirement already satisfied: typing-extensions>=4.7 in /home/raghib/anaconda3/envs/test_env/lib/python3.10/site-packages (from langchain-core<0.4.0,>=0.3.31->langchain) (4.12.2)\n",
      "Requirement already satisfied: httpx<1,>=0.23.0 in /home/raghib/anaconda3/envs/test_env/lib/python3.10/site-packages (from langsmith<0.4,>=0.1.17->langchain) (0.27.2)\n",
      "Requirement already satisfied: orjson<4.0.0,>=3.9.14 in /home/raghib/anaconda3/envs/test_env/lib/python3.10/site-packages (from langsmith<0.4,>=0.1.17->langchain) (3.10.12)\n",
      "Requirement already satisfied: requests-toolbelt<2.0.0,>=1.0.0 in /home/raghib/anaconda3/envs/test_env/lib/python3.10/site-packages (from langsmith<0.4,>=0.1.17->langchain) (1.0.0)\n",
      "Requirement already satisfied: annotated-types>=0.6.0 in /home/raghib/anaconda3/envs/test_env/lib/python3.10/site-packages (from pydantic<3.0.0,>=2.7.4->langchain) (0.7.0)\n",
      "Requirement already satisfied: pydantic-core==2.27.1 in /home/raghib/anaconda3/envs/test_env/lib/python3.10/site-packages (from pydantic<3.0.0,>=2.7.4->langchain) (2.27.1)\n",
      "Requirement already satisfied: python-dotenv>=0.21.0 in /home/raghib/anaconda3/envs/test_env/lib/python3.10/site-packages (from pydantic-settings<3.0.0,>=2.4.0->langchain-community) (1.0.1)\n",
      "Requirement already satisfied: charset-normalizer<4,>=2 in /home/raghib/anaconda3/envs/test_env/lib/python3.10/site-packages (from requests<3,>=2->langchain) (3.4.1)\n",
      "Requirement already satisfied: idna<4,>=2.5 in /home/raghib/anaconda3/envs/test_env/lib/python3.10/site-packages (from requests<3,>=2->langchain) (3.10)\n",
      "Requirement already satisfied: urllib3<3,>=1.21.1 in /home/raghib/anaconda3/envs/test_env/lib/python3.10/site-packages (from requests<3,>=2->langchain) (2.2.3)\n",
      "Requirement already satisfied: certifi>=2017.4.17 in /home/raghib/anaconda3/envs/test_env/lib/python3.10/site-packages (from requests<3,>=2->langchain) (2024.12.14)\n",
      "Requirement already satisfied: greenlet!=0.4.17 in /home/raghib/anaconda3/envs/test_env/lib/python3.10/site-packages (from SQLAlchemy<3,>=1.4->langchain) (3.1.1)\n",
      "Requirement already satisfied: anyio in /home/raghib/anaconda3/envs/test_env/lib/python3.10/site-packages (from httpx<1,>=0.23.0->langsmith<0.4,>=0.1.17->langchain) (4.7.0)\n",
      "Requirement already satisfied: httpcore==1.* in /home/raghib/anaconda3/envs/test_env/lib/python3.10/site-packages (from httpx<1,>=0.23.0->langsmith<0.4,>=0.1.17->langchain) (1.0.7)\n",
      "Requirement already satisfied: sniffio in /home/raghib/anaconda3/envs/test_env/lib/python3.10/site-packages (from httpx<1,>=0.23.0->langsmith<0.4,>=0.1.17->langchain) (1.3.1)\n",
      "Requirement already satisfied: h11<0.15,>=0.13 in /home/raghib/anaconda3/envs/test_env/lib/python3.10/site-packages (from httpcore==1.*->httpx<1,>=0.23.0->langsmith<0.4,>=0.1.17->langchain) (0.14.0)\n",
      "Requirement already satisfied: jsonpointer>=1.9 in /home/raghib/anaconda3/envs/test_env/lib/python3.10/site-packages (from jsonpatch<2.0,>=1.33->langchain-core<0.4.0,>=0.3.31->langchain) (3.0.0)\n",
      "Requirement already satisfied: mypy-extensions>=0.3.0 in /home/raghib/anaconda3/envs/test_env/lib/python3.10/site-packages (from typing-inspect<1,>=0.4.0->dataclasses-json<0.7,>=0.5.7->langchain-community) (1.0.0)\n",
      "Requirement already satisfied: exceptiongroup>=1.0.2 in /home/raghib/anaconda3/envs/test_env/lib/python3.10/site-packages (from anyio->httpx<1,>=0.23.0->langsmith<0.4,>=0.1.17->langchain) (1.2.2)\n",
      "Downloading langchain-0.3.15-py3-none-any.whl (1.0 MB)\n",
      "\u001b[2K   \u001b[38;2;114;156;31m━━━━━━━━━━━━━━━━━━━━━━━━━━━━━━━━━━━━━━━━\u001b[0m \u001b[32m1.0/1.0 MB\u001b[0m \u001b[31m1.1 MB/s\u001b[0m eta \u001b[36m0:00:00\u001b[0m MB/s\u001b[0m eta \u001b[36m0:00:01\u001b[0m00:01\u001b[0m\n",
      "\u001b[?25hDownloading langchain_community-0.3.15-py3-none-any.whl (2.5 MB)\n",
      "\u001b[2K   \u001b[38;2;114;156;31m━━━━━━━━━━━━━━━━━━━━━━━━━━━━━━━━━━━━━━━━\u001b[0m \u001b[32m2.5/2.5 MB\u001b[0m \u001b[31m1.1 MB/s\u001b[0m eta \u001b[36m0:00:00\u001b[0m[31m1.1 MB/s\u001b[0m eta \u001b[36m0:00:01\u001b[0m\n",
      "\u001b[?25hUsing cached httpx_sse-0.4.0-py3-none-any.whl (7.8 kB)\n",
      "Downloading langchain_core-0.3.31-py3-none-any.whl (412 kB)\n",
      "Installing collected packages: httpx-sse, langchain-core, langchain, langchain-community\n",
      "  Attempting uninstall: langchain-core\n",
      "    Found existing installation: langchain-core 0.3.29\n",
      "    Uninstalling langchain-core-0.3.29:\n",
      "      Successfully uninstalled langchain-core-0.3.29\n",
      "  Attempting uninstall: langchain\n",
      "    Found existing installation: langchain 0.3.14\n",
      "    Uninstalling langchain-0.3.14:\n",
      "      Successfully uninstalled langchain-0.3.14\n",
      "  Attempting uninstall: langchain-community\n",
      "    Found existing installation: langchain-community 0.3.3\n",
      "    Uninstalling langchain-community-0.3.3:\n",
      "      Successfully uninstalled langchain-community-0.3.3\n",
      "Successfully installed httpx-sse-0.4.0 langchain-0.3.15 langchain-community-0.3.15 langchain-core-0.3.31\n"
     ]
    }
   ],
   "source": [
    "!pip install -U langchain langchain-community"
   ]
  },
  {
   "cell_type": "code",
   "execution_count": null,
   "metadata": {},
   "outputs": [],
   "source": [
    "import os\n",
    "from typing import Optional, List\n",
    "from dotenv import load_dotenv\n",
    "\n",
    "from pydantic import Field\n",
    "from langchain_community.utilities import GoogleSerperAPIWrapper\n",
    "import langchain\n",
    "from langchain_core.output_parsers import JsonOutputParser\n",
    "from dotenv import load_dotenv\n",
    "import pprint\n",
    "load_dotenv()\n",
    "from pydantic import BaseModel, Field\n",
    "from langchain_core.runnables.base import RunnableLambda\n",
    "\n",
    "\n",
    "class KnowledgeGraph(BaseModel):\n",
    "    type: str\n",
    "    description: str\n",
    "    description_link: str = Field(..., alias='descriptionLink')\n",
    "    attributes: dict\n",
    "\n",
    "class Sitelink(BaseModel):\n",
    "    title: str\n",
    "    link: str\n",
    "\n",
    "class OrganicItem(BaseModel):\n",
    "    title: str\n",
    "    link: str\n",
    "    snippet: str\n",
    "    sitelinks: Optional[list[Sitelink]] = None\n",
    "    position: int\n",
    "    date: Optional[str] = None\n",
    "\n",
    "class TopStory(BaseModel):\n",
    "    title: str\n",
    "    link: str\n",
    "    source: str\n",
    "    date: str\n",
    "\n",
    "class SearchResults(BaseModel):\n",
    "    organic: List[OrganicItem]\n",
    "\n",
    "from langchain_core.prompts import PromptTemplate\n",
    "\n",
    "prompt = PromptTemplate.from_template(template=\"\"\"filetype:pdf base knowledge documents on {input}\"\"\")\n",
    "\n",
    "\n",
    "\n",
    "def serperfetch(query:str):\n",
    "    search_results=GoogleSerperAPIWrapper(type='search').results(query)\n",
    "    return SearchResults.model_validate({'organic':search_results['organic']})\n",
    "\n",
    "serper_chain=prompt | RunnableLambda(lambda x: serperfetch(x))\n",
    "serperfetch(\"filetype:pdf base knowledge documents on Routing Guides by Lane \")"
   ]
  },
  {
   "cell_type": "code",
   "execution_count": 3,
   "metadata": {},
   "outputs": [
    {
     "ename": "ValidationError",
     "evalue": "1 validation error for GoogleSerperAPIWrapper\n  Value error, Did not find serper_api_key, please add an environment variable `SERPER_API_KEY` which contains it, or pass `serper_api_key` as a named parameter. [type=value_error, input_value={'type': 'search'}, input_type=dict]\n    For further information visit https://errors.pydantic.dev/2.10/v/value_error",
     "output_type": "error",
     "traceback": [
      "\u001b[0;31m---------------------------------------------------------------------------\u001b[0m",
      "\u001b[0;31mValidationError\u001b[0m                           Traceback (most recent call last)",
      "Cell \u001b[0;32mIn[3], line 1\u001b[0m\n\u001b[0;32m----> 1\u001b[0m \u001b[43mserperfetch\u001b[49m\u001b[43m(\u001b[49m\u001b[38;5;124;43m\"\u001b[39;49m\u001b[38;5;124;43mfiletype:pdf base knowledge documents on Routing Guides by Lane \u001b[39;49m\u001b[38;5;124;43m\"\u001b[39;49m\u001b[43m)\u001b[49m\n",
      "Cell \u001b[0;32mIn[2], line 50\u001b[0m, in \u001b[0;36mserperfetch\u001b[0;34m(query)\u001b[0m\n\u001b[1;32m     49\u001b[0m \u001b[38;5;28;01mdef\u001b[39;00m\u001b[38;5;250m \u001b[39m\u001b[38;5;21mserperfetch\u001b[39m(query:\u001b[38;5;28mstr\u001b[39m):\n\u001b[0;32m---> 50\u001b[0m     search_results\u001b[38;5;241m=\u001b[39m\u001b[43mGoogleSerperAPIWrapper\u001b[49m\u001b[43m(\u001b[49m\u001b[38;5;28;43mtype\u001b[39;49m\u001b[38;5;241;43m=\u001b[39;49m\u001b[38;5;124;43m'\u001b[39;49m\u001b[38;5;124;43msearch\u001b[39;49m\u001b[38;5;124;43m'\u001b[39;49m\u001b[43m)\u001b[49m\u001b[38;5;241m.\u001b[39mresults(query)\n\u001b[1;32m     51\u001b[0m     \u001b[38;5;28;01mreturn\u001b[39;00m SearchResults\u001b[38;5;241m.\u001b[39mmodel_validate({\u001b[38;5;124m'\u001b[39m\u001b[38;5;124morganic\u001b[39m\u001b[38;5;124m'\u001b[39m:search_results[\u001b[38;5;124m'\u001b[39m\u001b[38;5;124morganic\u001b[39m\u001b[38;5;124m'\u001b[39m]})\n",
      "File \u001b[0;32m~/anaconda3/envs/test_env/lib/python3.10/site-packages/pydantic/main.py:214\u001b[0m, in \u001b[0;36mBaseModel.__init__\u001b[0;34m(self, **data)\u001b[0m\n\u001b[1;32m    212\u001b[0m \u001b[38;5;66;03m# `__tracebackhide__` tells pytest and some other tools to omit this function from tracebacks\u001b[39;00m\n\u001b[1;32m    213\u001b[0m __tracebackhide__ \u001b[38;5;241m=\u001b[39m \u001b[38;5;28;01mTrue\u001b[39;00m\n\u001b[0;32m--> 214\u001b[0m validated_self \u001b[38;5;241m=\u001b[39m \u001b[38;5;28;43mself\u001b[39;49m\u001b[38;5;241;43m.\u001b[39;49m\u001b[43m__pydantic_validator__\u001b[49m\u001b[38;5;241;43m.\u001b[39;49m\u001b[43mvalidate_python\u001b[49m\u001b[43m(\u001b[49m\u001b[43mdata\u001b[49m\u001b[43m,\u001b[49m\u001b[43m \u001b[49m\u001b[43mself_instance\u001b[49m\u001b[38;5;241;43m=\u001b[39;49m\u001b[38;5;28;43mself\u001b[39;49m\u001b[43m)\u001b[49m\n\u001b[1;32m    215\u001b[0m \u001b[38;5;28;01mif\u001b[39;00m \u001b[38;5;28mself\u001b[39m \u001b[38;5;129;01mis\u001b[39;00m \u001b[38;5;129;01mnot\u001b[39;00m validated_self:\n\u001b[1;32m    216\u001b[0m     warnings\u001b[38;5;241m.\u001b[39mwarn(\n\u001b[1;32m    217\u001b[0m         \u001b[38;5;124m'\u001b[39m\u001b[38;5;124mA custom validator is returning a value other than `self`.\u001b[39m\u001b[38;5;130;01m\\n\u001b[39;00m\u001b[38;5;124m'\u001b[39m\n\u001b[1;32m    218\u001b[0m         \u001b[38;5;124m\"\u001b[39m\u001b[38;5;124mReturning anything other than `self` from a top level model validator isn\u001b[39m\u001b[38;5;124m'\u001b[39m\u001b[38;5;124mt supported when validating via `__init__`.\u001b[39m\u001b[38;5;130;01m\\n\u001b[39;00m\u001b[38;5;124m\"\u001b[39m\n\u001b[1;32m    219\u001b[0m         \u001b[38;5;124m'\u001b[39m\u001b[38;5;124mSee the `model_validator` docs (https://docs.pydantic.dev/latest/concepts/validators/#model-validators) for more details.\u001b[39m\u001b[38;5;124m'\u001b[39m,\n\u001b[1;32m    220\u001b[0m         stacklevel\u001b[38;5;241m=\u001b[39m\u001b[38;5;241m2\u001b[39m,\n\u001b[1;32m    221\u001b[0m     )\n",
      "\u001b[0;31mValidationError\u001b[0m: 1 validation error for GoogleSerperAPIWrapper\n  Value error, Did not find serper_api_key, please add an environment variable `SERPER_API_KEY` which contains it, or pass `serper_api_key` as a named parameter. [type=value_error, input_value={'type': 'search'}, input_type=dict]\n    For further information visit https://errors.pydantic.dev/2.10/v/value_error"
     ]
    }
   ],
   "source": [
    "serperfetch(\"filetype:pdf base knowledge documents on Routing Guides by Lane \")"
   ]
  },
  {
   "cell_type": "code",
   "execution_count": null,
   "metadata": {},
   "outputs": [],
   "source": []
  }
 ],
 "metadata": {
  "kernelspec": {
   "display_name": "test_env",
   "language": "python",
   "name": "python3"
  },
  "language_info": {
   "codemirror_mode": {
    "name": "ipython",
    "version": 3
   },
   "file_extension": ".py",
   "mimetype": "text/x-python",
   "name": "python",
   "nbconvert_exporter": "python",
   "pygments_lexer": "ipython3",
   "version": "3.10.11"
  }
 },
 "nbformat": 4,
 "nbformat_minor": 2
}
